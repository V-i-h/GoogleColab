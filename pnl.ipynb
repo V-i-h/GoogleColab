{
  "nbformat": 4,
  "nbformat_minor": 0,
  "metadata": {
    "colab": {
      "provenance": [],
      "authorship_tag": "ABX9TyMzpskHPzRHncAmxvBZmS14",
      "include_colab_link": true
    },
    "kernelspec": {
      "name": "python3",
      "display_name": "Python 3"
    },
    "language_info": {
      "name": "python"
    }
  },
  "cells": [
    {
      "cell_type": "markdown",
      "metadata": {
        "id": "view-in-github",
        "colab_type": "text"
      },
      "source": [
        "<a href=\"https://colab.research.google.com/github/V-i-h/GoogleColab/blob/master/pnl.ipynb\" target=\"_parent\"><img src=\"https://colab.research.google.com/assets/colab-badge.svg\" alt=\"Open In Colab\"/></a>"
      ]
    },
    {
      "cell_type": "markdown",
      "source": [
        "# Introdução a PNL (Processamento de Linguagem Natural)\n",
        "\n",
        "\n"
      ],
      "metadata": {
        "id": "bdU6gK2kDCeZ"
      }
    },
    {
      "cell_type": "markdown",
      "source": [
        "\n",
        "1. Texto(**corpus** - **corpora**)\n",
        "2. Tokenização (palavra ou sentença)\n",
        "3. Análise Léxica (stemming):entregar -**Entreg** = **steam**(radical)\n",
        "4. Análise Sintática (**gramática** e **árvores sintáticas**)\n",
        "5. Análise Semântica (**Contexto**)\n",
        "\n",
        "![](https://colband.net.br/files/2013/04/vendo-por-do-sol.jpg)\n",
        "6. Análise Pragmática(inteções, implicações, tom , subentendido -**ChatGPT 4o**)\n",
        "7. Significado prentendido do falante\n",
        "\n"
      ],
      "metadata": {
        "id": "Q3yBWj7sUR8g"
      }
    },
    {
      "cell_type": "code",
      "source": [],
      "metadata": {
        "id": "nmWlr-ClURCw"
      },
      "execution_count": null,
      "outputs": []
    },
    {
      "cell_type": "markdown",
      "source": [
        "NLTK(Natural Language Toolkit)"
      ],
      "metadata": {
        "id": "keho-zIlLTIZ"
      }
    },
    {
      "cell_type": "code",
      "source": [
        "! pip install nltk"
      ],
      "metadata": {
        "id": "pz63miFILBV4"
      },
      "execution_count": null,
      "outputs": []
    },
    {
      "cell_type": "code",
      "source": [
        "texto = \"\"\"\n",
        "É pau, é pedra, é o fim do caminho\n",
        "É um resto de toco, é um pouco sozinho\n",
        "É um caco de vidro, é a vida, é o sol\n",
        "É a noite, é o lençol\n",
        "É a perda de tempo, é o tempo perdido\n",
        "É a vida que passa, é um dente quebrado\n",
        "É um pouco de tudo, é um pouco de nada\n",
        "É o que é, é o que não é\n",
        "É o fim, é o meio, é o começo\n",
        "É a força do vento, é a força do mar\n",
        "É a vida que passa, é o que se vai\n",
        "É o que ficou\n",
        "É a vida que passa, é a vida que fica\n",
        "É a vida que vai\n",
        "É a vida que vem\n",
        "É o que resta\n",
        "É o que se esconde\n",
        "É o que se revela\n",
        "É a beleza, é a tristeza\n",
        "É a vida que segue\n",
        "É a vida que continua\n",
        "É o fim do caminho\n",
        "É o começo do caminho\n",
        "É a estrada, é o chão\n",
        "É o céu, é o mar\n",
        "É o sol, é a lua\n",
        "É a flor, é o fruto\n",
        "É a semente, é a raiz\n",
        "É a vida, é a morte\n",
        "É o nascimento, é o fim\n",
        "É a vida, é o ciclo\n",
        "É o que é, é o que não é\n",
        "É o que será\n",
        "É o que já foi\n",
        "É o que está por vir\n",
        "É o tempo, é o momento\n",
        "É a eternidade\n",
        "É o instante\n",
        "É o agora\n",
        "É a mudança\n",
        "É o que está em nós\n",
        "É o que está fora\n",
        "É o que nos une\n",
        "É o que nos separa\n",
        "É o que é\n",
        "É o que não é\n",
        "É o que nunca será\n",
        "É a vida, é o amor\n",
        "É o fim, é o começo\n",
        "É o eterno presente\n",
        "É o eterno passado\n",
        "É o eterno futuro\n",
        "É o agora\n",
        "É o antes\n",
        "É o depois\n",
        "É a vida\n",
        "É a morte\n",
        "É o ciclo eterno\n",
        "É a força da natureza\n",
        "É o que é\n",
        "É o que não é\n",
        "É o que será\n",
        "É o que já foi\n",
        "É a vida\n",
        "É o que é\n",
        "É o que não é\n",
        "É o que será\n",
        "É o que já foi\n",
        "É o ciclo eterno\n",
        "É a vida\n",
        "É a vida\n",
        "É a vida que continua\n",
        "É a vida que passa\n",
        "É o ciclo\n",
        "É o que é\n",
        "É o que não é\n",
        "É o que será\n",
        "É o que já foi\n",
        "\"\"\"\n"
      ],
      "metadata": {
        "id": "VWaGbHYXNMHP"
      },
      "execution_count": null,
      "outputs": []
    },
    {
      "cell_type": "code",
      "source": [
        "print(texto)"
      ],
      "metadata": {
        "id": "10n-i5f6N9UW"
      },
      "execution_count": null,
      "outputs": []
    },
    {
      "cell_type": "code",
      "source": [
        "#Biblioteca para manipular diretórios (sistema operacional)\n",
        "import os"
      ],
      "metadata": {
        "id": "sRcdvusaRz16"
      },
      "execution_count": null,
      "outputs": []
    },
    {
      "cell_type": "markdown",
      "source": [
        "# Lendo arquivo do diretorio\n"
      ],
      "metadata": {
        "id": "h4ULETB4Tnw6"
      }
    },
    {
      "cell_type": "code",
      "source": [
        "with open(os.path.join(\"dados\",\"terradeninguem.txt\"),\"r\",encoding=\"utf-8\") as f:\n",
        "  texto2 = f.read()\n",
        "  print(texto2)"
      ],
      "metadata": {
        "colab": {
          "base_uri": "https://localhost:8080/"
        },
        "id": "K5WTN8aaRgum",
        "outputId": "1fdec132-75a7-4dc9-a10b-81ab7d65bbc6"
      },
      "execution_count": null,
      "outputs": [
        {
          "output_type": "stream",
          "name": "stdout",
          "text": [
            "A terra de ninguém\n",
            "Onde ninguém quer ouvir a verdade\n",
            "Onde ninguém tem a necessidade\n",
            "De segurança, trabalho\n",
            "Comida, de honestidade\n",
            "Justiça e amor\n",
            "Terra de ninguém\n",
            "A terra de ninguém\n",
            "Onde ninguém hoje é respeitado\n",
            "Onde ninguém quer mudar esse quadro\n",
            "De violência, miséria\n",
            "Maldade, de peversidade\n",
            "Engano e dor\n",
            "Terra de ninguém\n",
            "Na terra de ninguém\n",
            "Eu vi duas pessoas jogando xadrez\n",
            "Eu vi um bispo e a rainha tentando\n",
            "Um xeque-mate na frentre do rei\n",
            "Onde a prosperidade e a pobreza\n",
            "São apenas um meio\n",
            "De se conseguir mais riqueza\n",
            "Xeque-mate\n",
            "Xeque-mate\n",
            "Xeque-mate\n",
            "Na terra de ninguém\n",
            "Na terra de ninguém\n",
            "Eu tive medo do que podia acontecer\n",
            "Na terra de Ninguém\n",
            "Eu tenho medo do que poderá acontecer\n",
            "Na terra de ninguém\n",
            "Eu tive medo do que podia acontecer\n",
            "Na terra de Ninguém\n",
            "Eu tenho medo do que poderá acontecer\n",
            "Na terra de Ninguém\n",
            "Eu Me Ajoelhei e Orei\n",
            "Na terra de Ninguém\n",
            "Eu Me Ajoelhei e Orei\n",
            "Na terra de Ninguém\n"
          ]
        }
      ]
    },
    {
      "cell_type": "markdown",
      "source": [
        "# Tokenização"
      ],
      "metadata": {
        "id": "B1ldm38-TwZB"
      }
    },
    {
      "cell_type": "code",
      "source": [
        "import nltk"
      ],
      "metadata": {
        "id": "MQ_PTdYdUBcv"
      },
      "execution_count": null,
      "outputs": []
    },
    {
      "cell_type": "code",
      "source": [
        "from nltk.tokenize import word_tokenize\n"
      ],
      "metadata": {
        "id": "isJ7YATPLLUH"
      },
      "execution_count": null,
      "outputs": []
    },
    {
      "cell_type": "code",
      "source": [
        "from nltk.tokenize import sent_tokenize"
      ],
      "metadata": {
        "id": "rFSJ_7MPTh7p"
      },
      "execution_count": null,
      "outputs": []
    },
    {
      "cell_type": "markdown",
      "source": [
        "# Download de um Modelo Pré-Treinado (Corpora)"
      ],
      "metadata": {
        "id": "A334vSBAUaY_"
      }
    },
    {
      "cell_type": "code",
      "source": [
        "nltk.download('punkt')"
      ],
      "metadata": {
        "colab": {
          "base_uri": "https://localhost:8080/"
        },
        "id": "A6GMlhmyUyph",
        "outputId": "1c3c0257-d00e-4bc8-967b-d66dd19582a7"
      },
      "execution_count": null,
      "outputs": [
        {
          "output_type": "stream",
          "name": "stderr",
          "text": [
            "[nltk_data] Downloading package punkt to /root/nltk_data...\n",
            "[nltk_data]   Unzipping tokenizers/punkt.zip.\n"
          ]
        },
        {
          "output_type": "execute_result",
          "data": {
            "text/plain": [
              "True"
            ]
          },
          "metadata": {},
          "execution_count": 12
        }
      ]
    },
    {
      "cell_type": "markdown",
      "source": [
        "# Águas de Março - Analisando Setenças\n"
      ],
      "metadata": {
        "id": "NRbpNv9YgeL2"
      }
    },
    {
      "cell_type": "code",
      "source": [
        "sentencas_aguas_marco = sent_tokenize(texto, language='portuguese')\n",
        "print(sentencas_aguas_marco)"
      ],
      "metadata": {
        "colab": {
          "base_uri": "https://localhost:8080/"
        },
        "id": "2gth_sQ9gmue",
        "outputId": "4cebba77-b7ea-4b75-8a40-0e4bd7b07efb"
      },
      "execution_count": null,
      "outputs": [
        {
          "output_type": "stream",
          "name": "stdout",
          "text": [
            "['\\nÉ pau, é pedra, é o fim do caminho\\nÉ um resto de toco, é um pouco sozinho\\nÉ um caco de vidro, é a vida, é o sol\\nÉ a noite, é o lençol\\nÉ a perda de tempo, é o tempo perdido\\nÉ a vida que passa, é um dente quebrado\\nÉ um pouco de tudo, é um pouco de nada\\nÉ o que é, é o que não é\\nÉ o fim, é o meio, é o começo\\nÉ a força do vento, é a força do mar\\nÉ a vida que passa, é o que se vai\\nÉ o que ficou\\nÉ a vida que passa, é a vida que fica\\nÉ a vida que vai\\nÉ a vida que vem\\nÉ o que resta\\nÉ o que se esconde\\nÉ o que se revela\\nÉ a beleza, é a tristeza\\nÉ a vida que segue\\nÉ a vida que continua\\nÉ o fim do caminho\\nÉ o começo do caminho\\nÉ a estrada, é o chão\\nÉ o céu, é o mar\\nÉ o sol, é a lua\\nÉ a flor, é o fruto\\nÉ a semente, é a raiz\\nÉ a vida, é a morte\\nÉ o nascimento, é o fim\\nÉ a vida, é o ciclo\\nÉ o que é, é o que não é\\nÉ o que será\\nÉ o que já foi\\nÉ o que está por vir\\nÉ o tempo, é o momento\\nÉ a eternidade\\nÉ o instante\\nÉ o agora\\nÉ a mudança\\nÉ o que está em nós\\nÉ o que está fora\\nÉ o que nos une\\nÉ o que nos separa\\nÉ o que é\\nÉ o que não é\\nÉ o que nunca será\\nÉ a vida, é o amor\\nÉ o fim, é o começo\\nÉ o eterno presente\\nÉ o eterno passado\\nÉ o eterno futuro\\nÉ o agora\\nÉ o antes\\nÉ o depois\\nÉ a vida\\nÉ a morte\\nÉ o ciclo eterno\\nÉ a força da natureza\\nÉ o que é\\nÉ o que não é\\nÉ o que será\\nÉ o que já foi\\nÉ a vida\\nÉ o que é\\nÉ o que não é\\nÉ o que será\\nÉ o que já foi\\nÉ o ciclo eterno\\nÉ a vida\\nÉ a vida\\nÉ a vida que continua\\nÉ a vida que passa\\nÉ o ciclo\\nÉ o que é\\nÉ o que não é\\nÉ o que será\\nÉ o que já foi']\n"
          ]
        }
      ]
    },
    {
      "cell_type": "code",
      "source": [
        "print(type(sentencas_aguas_marco))"
      ],
      "metadata": {
        "colab": {
          "base_uri": "https://localhost:8080/"
        },
        "id": "CLOYcrawhw-2",
        "outputId": "b42966c4-08a6-489d-a444-7a3ca6a57c16"
      },
      "execution_count": null,
      "outputs": [
        {
          "output_type": "stream",
          "name": "stdout",
          "text": [
            "<class 'list'>\n"
          ]
        }
      ]
    },
    {
      "cell_type": "code",
      "source": [
        "word_aguas_marco = word_tokenize(texto, language='portuguese')\n",
        "print(word_aguas_marco)"
      ],
      "metadata": {
        "colab": {
          "base_uri": "https://localhost:8080/"
        },
        "id": "-c1djIAjh1cD",
        "outputId": "79f02617-3d43-41ad-b23a-40906eb9837c"
      },
      "execution_count": null,
      "outputs": [
        {
          "output_type": "stream",
          "name": "stdout",
          "text": [
            "['É', 'pau', ',', 'é', 'pedra', ',', 'é', 'o', 'fim', 'do', 'caminho', 'É', 'um', 'resto', 'de', 'toco', ',', 'é', 'um', 'pouco', 'sozinho', 'É', 'um', 'caco', 'de', 'vidro', ',', 'é', 'a', 'vida', ',', 'é', 'o', 'sol', 'É', 'a', 'noite', ',', 'é', 'o', 'lençol', 'É', 'a', 'perda', 'de', 'tempo', ',', 'é', 'o', 'tempo', 'perdido', 'É', 'a', 'vida', 'que', 'passa', ',', 'é', 'um', 'dente', 'quebrado', 'É', 'um', 'pouco', 'de', 'tudo', ',', 'é', 'um', 'pouco', 'de', 'nada', 'É', 'o', 'que', 'é', ',', 'é', 'o', 'que', 'não', 'é', 'É', 'o', 'fim', ',', 'é', 'o', 'meio', ',', 'é', 'o', 'começo', 'É', 'a', 'força', 'do', 'vento', ',', 'é', 'a', 'força', 'do', 'mar', 'É', 'a', 'vida', 'que', 'passa', ',', 'é', 'o', 'que', 'se', 'vai', 'É', 'o', 'que', 'ficou', 'É', 'a', 'vida', 'que', 'passa', ',', 'é', 'a', 'vida', 'que', 'fica', 'É', 'a', 'vida', 'que', 'vai', 'É', 'a', 'vida', 'que', 'vem', 'É', 'o', 'que', 'resta', 'É', 'o', 'que', 'se', 'esconde', 'É', 'o', 'que', 'se', 'revela', 'É', 'a', 'beleza', ',', 'é', 'a', 'tristeza', 'É', 'a', 'vida', 'que', 'segue', 'É', 'a', 'vida', 'que', 'continua', 'É', 'o', 'fim', 'do', 'caminho', 'É', 'o', 'começo', 'do', 'caminho', 'É', 'a', 'estrada', ',', 'é', 'o', 'chão', 'É', 'o', 'céu', ',', 'é', 'o', 'mar', 'É', 'o', 'sol', ',', 'é', 'a', 'lua', 'É', 'a', 'flor', ',', 'é', 'o', 'fruto', 'É', 'a', 'semente', ',', 'é', 'a', 'raiz', 'É', 'a', 'vida', ',', 'é', 'a', 'morte', 'É', 'o', 'nascimento', ',', 'é', 'o', 'fim', 'É', 'a', 'vida', ',', 'é', 'o', 'ciclo', 'É', 'o', 'que', 'é', ',', 'é', 'o', 'que', 'não', 'é', 'É', 'o', 'que', 'será', 'É', 'o', 'que', 'já', 'foi', 'É', 'o', 'que', 'está', 'por', 'vir', 'É', 'o', 'tempo', ',', 'é', 'o', 'momento', 'É', 'a', 'eternidade', 'É', 'o', 'instante', 'É', 'o', 'agora', 'É', 'a', 'mudança', 'É', 'o', 'que', 'está', 'em', 'nós', 'É', 'o', 'que', 'está', 'fora', 'É', 'o', 'que', 'nos', 'une', 'É', 'o', 'que', 'nos', 'separa', 'É', 'o', 'que', 'é', 'É', 'o', 'que', 'não', 'é', 'É', 'o', 'que', 'nunca', 'será', 'É', 'a', 'vida', ',', 'é', 'o', 'amor', 'É', 'o', 'fim', ',', 'é', 'o', 'começo', 'É', 'o', 'eterno', 'presente', 'É', 'o', 'eterno', 'passado', 'É', 'o', 'eterno', 'futuro', 'É', 'o', 'agora', 'É', 'o', 'antes', 'É', 'o', 'depois', 'É', 'a', 'vida', 'É', 'a', 'morte', 'É', 'o', 'ciclo', 'eterno', 'É', 'a', 'força', 'da', 'natureza', 'É', 'o', 'que', 'é', 'É', 'o', 'que', 'não', 'é', 'É', 'o', 'que', 'será', 'É', 'o', 'que', 'já', 'foi', 'É', 'a', 'vida', 'É', 'o', 'que', 'é', 'É', 'o', 'que', 'não', 'é', 'É', 'o', 'que', 'será', 'É', 'o', 'que', 'já', 'foi', 'É', 'o', 'ciclo', 'eterno', 'É', 'a', 'vida', 'É', 'a', 'vida', 'É', 'a', 'vida', 'que', 'continua', 'É', 'a', 'vida', 'que', 'passa', 'É', 'o', 'ciclo', 'É', 'o', 'que', 'é', 'É', 'o', 'que', 'não', 'é', 'É', 'o', 'que', 'será', 'É', 'o', 'que', 'já', 'foi']\n"
          ]
        }
      ]
    },
    {
      "cell_type": "code",
      "source": [
        "from nltk.probability import FreqDist\n"
      ],
      "metadata": {
        "id": "n0U6JKLDlk9E"
      },
      "execution_count": null,
      "outputs": []
    },
    {
      "cell_type": "code",
      "source": [
        "fdisk_aguas_marco = FreqDist(word_aguas_marco)\n",
        "fdisk_aguas_marco"
      ],
      "metadata": {
        "colab": {
          "base_uri": "https://localhost:8080/"
        },
        "id": "TDjSXkI7mE4B",
        "outputId": "657a905f-377d-4385-885d-c75dec33ab25"
      },
      "execution_count": null,
      "outputs": [
        {
          "output_type": "execute_result",
          "data": {
            "text/plain": [
              "FreqDist({'É': 78, 'o': 64, 'que': 41, 'é': 40, 'a': 34, ',': 28, 'vida': 18, 'um': 6, 'não': 6, 'fim': 5, ...})"
            ]
          },
          "metadata": {},
          "execution_count": 18
        }
      ]
    },
    {
      "cell_type": "code",
      "source": [
        "fdisk_aguas_marco.most_common(2)"
      ],
      "metadata": {
        "colab": {
          "base_uri": "https://localhost:8080/"
        },
        "id": "Lyx4CfXvmQzY",
        "outputId": "a9b80dff-4efa-4d2d-b72f-c2b67fe80444"
      },
      "execution_count": null,
      "outputs": [
        {
          "output_type": "execute_result",
          "data": {
            "text/plain": [
              "[('É', 78), ('o', 64)]"
            ]
          },
          "metadata": {},
          "execution_count": 20
        }
      ]
    },
    {
      "cell_type": "code",
      "source": [
        "fdisk_aguas_marco.plot(10)"
      ],
      "metadata": {
        "colab": {
          "base_uri": "https://localhost:8080/",
          "height": 482
        },
        "id": "lkoH0Jjqm4HP",
        "outputId": "0d018f4f-67ea-4d2f-a20f-91a230472809"
      },
      "execution_count": null,
      "outputs": [
        {
          "output_type": "display_data",
          "data": {
            "text/plain": [
              "<Figure size 640x480 with 1 Axes>"
            ],
            "image/png": "[encoded data removed]"
          },
          "metadata": {}
        },
        {
          "output_type": "execute_result",
          "data": {
            "text/plain": [
              "<Axes: xlabel='Samples', ylabel='Counts'>"
            ]
          },
          "metadata": {},
          "execution_count": 23
        }
      ]
    },
    {
      "cell_type": "code",
      "source": [
        "with open(os.path.join(\"dados\",\"walklikethis.txt\"),\"r\",encoding=\"utf-8\") as r:\n",
        "  walklikethis= r.read()\n",
        "  print(walklikethis)"
      ],
      "metadata": {
        "colab": {
          "base_uri": "https://localhost:8080/"
        },
        "id": "o46G6L6wn1lc",
        "outputId": "7ff5bb22-f389-4f5d-8fbc-6bb77a89569b"
      },
      "execution_count": null,
      "outputs": [
        {
          "output_type": "stream",
          "name": "stdout",
          "text": [
            "Ah\n",
            "Ooh\n",
            "There's a reason I walk like this (I walk)\n",
            "My baby, he be loving on this (oh, yeah)\n",
            "When he do it, he be workin' that shit\n",
            "And every night he got me wantin' more of it\n",
            "There's a reason I walk like this (I walk)\n",
            "Side to side with a sway in my hip (sway, sway)\n",
            "When he do it, he be workin' that shit\n",
            "And every night he got me wantin' more of it\n",
            "Been a bad girl, I've been feenin'\n",
            "Hit it so good, every weekend\n",
            "Lot of missed calls, but I ain't seen it\n",
            "I've been too gone, I can't believe it\n",
            "Got my makeup (yeah), on his mattress (yeah)\n",
            "Been here so long (yeah), what's my address? (yeah)\n",
            "It's an addiction and it's a habit\n",
            "I can be a lot, but he can manage, yeah\n",
            "We've been goin' nonstop\n",
            "Nobody does my body how he does my body\n",
            "He got this thing on lock\n",
            "The way he does it, I ain't tryna hear nobody, no (no), no\n",
            "The way that he squeezes and touches it, oh (no), oh\n",
            "If he keeps this up I might need crutches, like (a'ight)\n",
            "There's a reason I walk like this (I walk)\n",
            "My baby, he be lovin' on this (oh, yeah)\n",
            "When he do it, he be workin' that shit (oh, yeah)\n",
            "And every night he got me wantin' more of it\n",
            "There's a reason I walk like this (I walk)\n",
            "Side to side with a sway in my hip (sway, sway)\n",
            "When he do it, he be workin' that shit (yeah)\n",
            "And every night he got me wantin' more of it\n",
            "No, no, ain't no point in fightin' it (uh)\n",
            "I'm the cowgirl how I'm ridin' it (how I'm ridin' it)\n",
            "'Cause me and this – go good together\n",
            "He be all up in my river, boy (ah, oh)\n",
            "We've been goin' nonstop\n",
            "Nobody does my body how he does my body\n",
            "He got this thing on lock\n",
            "The way he does it, I ain't tryna hear nobody, no (no), no (no)\n",
            "The way that he squeezes and touches it, oh (no), oh (no)\n",
            "If he keeps this up I might need crutches, like\n",
            "There's a reason I walk like this (I walk)\n",
            "My baby, he be lovin' on this (oh, yeah)\n",
            "When he do it, he be workin' that shit (oh, yeah)\n",
            "And every night he got me wantin' more of it\n",
            "There's a reason I walk like this (I walk)\n",
            "Side to side with a sway in my hip (sway, sway)\n",
            "When he do it, he be workin' that shit (yeah)\n",
            "And every night he got me wantin' more of it (oh)\n",
            "All night I've been in this bed\n",
            "He been in my head, I've been in his head (his head)\n",
            "Move my body right and left\n",
            "Do that thing again, keep me comin' back (keep me comin' back)\n",
            "All night I've been in this bed\n",
            "He been in my head, I've been in his head (I've been in his head)\n",
            "Move my body right and left (move my body right and left)\n",
            "Do that thing again, keep me comin' back (keep me comin' back)\n",
            "There's a reason I walk like this ('ack, I walk)\n",
            "My baby, he be lovin' on this (yeah, yeah, oh, yeah)\n",
            "When he do it, he be workin' that shit (he got me wantin' more)\n",
            "And every night he got me wantin' more of it (of it, oh)\n",
            "There's a reason I walk like this (I walk)\n",
            "Side to side with a sway in my hip (a sway in my hips, sway, sway)\n",
            "When he do it, he be workin' that shit (yeah)\n",
            "And every night he got me wantin' more of it (he got me wantin' more)\n",
            "All night I've been in this bed\n",
            "He been in my head, I've been in his head (I've been in his head)\n",
            "Move my body right and left\n",
            "Do that thing again, keep me comin' back (do it again)\n",
            "There's a reason I walk like this (walk like this)\n",
            "Side to side with a sway in my hip (the sway, sway, sway)\n",
            "When he do it, he be workin' that shit (when he do it, he be workin' that)\n",
            "And every night he got me wantin' more of it\n"
          ]
        }
      ]
    },
    {
      "cell_type": "code",
      "source": [
        "sentences_musica = sent_tokenize(walklikethis, language=\"portuguese\")\n",
        "print(sentences_musica)"
      ],
      "metadata": {
        "colab": {
          "base_uri": "https://localhost:8080/"
        },
        "id": "gZ-zIHsuozIw",
        "outputId": "009328ed-ee5d-49be-a513-1f160a57bf1b"
      },
      "execution_count": null,
      "outputs": [
        {
          "output_type": "stream",
          "name": "stdout",
          "text": [
            "[\"Ah\\nOoh\\nThere's a reason I walk like this (I walk)\\nMy baby, he be loving on this (oh, yeah)\\nWhen he do it, he be workin' that shit\\nAnd every night he got me wantin' more of it\\nThere's a reason I walk like this (I walk)\\nSide to side with a sway in my hip (sway, sway)\\nWhen he do it, he be workin' that shit\\nAnd every night he got me wantin' more of it\\nBeen a bad girl, I've been feenin'\\nHit it so good, every weekend\\nLot of missed calls, but I ain't seen it\\nI've been too gone, I can't believe it\\nGot my makeup (yeah), on his mattress (yeah)\\nBeen here so long (yeah), what's my address?\", \"(yeah)\\nIt's an addiction and it's a habit\\nI can be a lot, but he can manage, yeah\\nWe've been goin' nonstop\\nNobody does my body how he does my body\\nHe got this thing on lock\\nThe way he does it, I ain't tryna hear nobody, no (no), no\\nThe way that he squeezes and touches it, oh (no), oh\\nIf he keeps this up I might need crutches, like (a'ight)\\nThere's a reason I walk like this (I walk)\\nMy baby, he be lovin' on this (oh, yeah)\\nWhen he do it, he be workin' that shit (oh, yeah)\\nAnd every night he got me wantin' more of it\\nThere's a reason I walk like this (I walk)\\nSide to side with a sway in my hip (sway, sway)\\nWhen he do it, he be workin' that shit (yeah)\\nAnd every night he got me wantin' more of it\\nNo, no, ain't no point in fightin' it (uh)\\nI'm the cowgirl how I'm ridin' it (how I'm ridin' it)\\n'Cause me and this – go good together\\nHe be all up in my river, boy (ah, oh)\\nWe've been goin' nonstop\\nNobody does my body how he does my body\\nHe got this thing on lock\\nThe way he does it, I ain't tryna hear nobody, no (no), no (no)\\nThe way that he squeezes and touches it, oh (no), oh (no)\\nIf he keeps this up I might need crutches, like\\nThere's a reason I walk like this (I walk)\\nMy baby, he be lovin' on this (oh, yeah)\\nWhen he do it, he be workin' that shit (oh, yeah)\\nAnd every night he got me wantin' more of it\\nThere's a reason I walk like this (I walk)\\nSide to side with a sway in my hip (sway, sway)\\nWhen he do it, he be workin' that shit (yeah)\\nAnd every night he got me wantin' more of it (oh)\\nAll night I've been in this bed\\nHe been in my head, I've been in his head (his head)\\nMove my body right and left\\nDo that thing again, keep me comin' back (keep me comin' back)\\nAll night I've been in this bed\\nHe been in my head, I've been in his head (I've been in his head)\\nMove my body right and left (move my body right and left)\\nDo that thing again, keep me comin' back (keep me comin' back)\\nThere's a reason I walk like this ('ack, I walk)\\nMy baby, he be lovin' on this (yeah, yeah, oh, yeah)\\nWhen he do it, he be workin' that shit (he got me wantin' more)\\nAnd every night he got me wantin' more of it (of it, oh)\\nThere's a reason I walk like this (I walk)\\nSide to side with a sway in my hip (a sway in my hips, sway, sway)\\nWhen he do it, he be workin' that shit (yeah)\\nAnd every night he got me wantin' more of it (he got me wantin' more)\\nAll night I've been in this bed\\nHe been in my head, I've been in his head (I've been in his head)\\nMove my body right and left\\nDo that thing again, keep me comin' back (do it again)\\nThere's a reason I walk like this (walk like this)\\nSide to side with a sway in my hip (the sway, sway, sway)\\nWhen he do it, he be workin' that shit (when he do it, he be workin' that)\\nAnd every night he got me wantin' more of it\"]\n"
          ]
        }
      ]
    },
    {
      "cell_type": "code",
      "source": [
        "word_musica = word_tokenize(walklikethis, language=\"portuguese\")\n",
        "print(word_musica)"
      ],
      "metadata": {
        "colab": {
          "base_uri": "https://localhost:8080/"
        },
        "id": "5q7jaTNmpN7_",
        "outputId": "3c40c4f7-de49-4b77-e97b-95ff0e18a150"
      },
      "execution_count": null,
      "outputs": [
        {
          "output_type": "stream",
          "name": "stdout",
          "text": [
            "['Ah', 'Ooh', 'There', \"'s\", 'a', 'reason', 'I', 'walk', 'like', 'this', '(', 'I', 'walk', ')', 'My', 'baby', ',', 'he', 'be', 'loving', 'on', 'this', '(', 'oh', ',', 'yeah', ')', 'When', 'he', 'do', 'it', ',', 'he', 'be', 'workin', \"'\", 'that', 'shit', 'And', 'every', 'night', 'he', 'got', 'me', 'wantin', \"'\", 'more', 'of', 'it', 'There', \"'s\", 'a', 'reason', 'I', 'walk', 'like', 'this', '(', 'I', 'walk', ')', 'Side', 'to', 'side', 'with', 'a', 'sway', 'in', 'my', 'hip', '(', 'sway', ',', 'sway', ')', 'When', 'he', 'do', 'it', ',', 'he', 'be', 'workin', \"'\", 'that', 'shit', 'And', 'every', 'night', 'he', 'got', 'me', 'wantin', \"'\", 'more', 'of', 'it', 'Been', 'a', 'bad', 'girl', ',', 'I', \"'ve\", 'been', \"feenin'\", 'Hit', 'it', 'so', 'good', ',', 'every', 'weekend', 'Lot', 'of', 'missed', 'calls', ',', 'but', 'I', 'ai', \"n't\", 'seen', 'it', 'I', \"'ve\", 'been', 'too', 'gone', ',', 'I', 'ca', \"n't\", 'believe', 'it', 'Got', 'my', 'makeup', '(', 'yeah', ')', ',', 'on', 'his', 'mattress', '(', 'yeah', ')', 'Been', 'here', 'so', 'long', '(', 'yeah', ')', ',', 'what', \"'s\", 'my', 'address', '?', '(', 'yeah', ')', 'It', \"'s\", 'an', 'addiction', 'and', 'it', \"'s\", 'a', 'habit', 'I', 'can', 'be', 'a', 'lot', ',', 'but', 'he', 'can', 'manage', ',', 'yeah', 'We', \"'ve\", 'been', 'goin', \"'\", 'nonstop', 'Nobody', 'does', 'my', 'body', 'how', 'he', 'does', 'my', 'body', 'He', 'got', 'this', 'thing', 'on', 'lock', 'The', 'way', 'he', 'does', 'it', ',', 'I', 'ai', \"n't\", 'tryna', 'hear', 'nobody', ',', 'no', '(', 'no', ')', ',', 'no', 'The', 'way', 'that', 'he', 'squeezes', 'and', 'touches', 'it', ',', 'oh', '(', 'no', ')', ',', 'oh', 'If', 'he', 'keeps', 'this', 'up', 'I', 'might', 'need', 'crutches', ',', 'like', '(', \"a'ight\", ')', 'There', \"'s\", 'a', 'reason', 'I', 'walk', 'like', 'this', '(', 'I', 'walk', ')', 'My', 'baby', ',', 'he', 'be', 'lovin', \"'\", 'on', 'this', '(', 'oh', ',', 'yeah', ')', 'When', 'he', 'do', 'it', ',', 'he', 'be', 'workin', \"'\", 'that', 'shit', '(', 'oh', ',', 'yeah', ')', 'And', 'every', 'night', 'he', 'got', 'me', 'wantin', \"'\", 'more', 'of', 'it', 'There', \"'s\", 'a', 'reason', 'I', 'walk', 'like', 'this', '(', 'I', 'walk', ')', 'Side', 'to', 'side', 'with', 'a', 'sway', 'in', 'my', 'hip', '(', 'sway', ',', 'sway', ')', 'When', 'he', 'do', 'it', ',', 'he', 'be', 'workin', \"'\", 'that', 'shit', '(', 'yeah', ')', 'And', 'every', 'night', 'he', 'got', 'me', 'wantin', \"'\", 'more', 'of', 'it', 'No', ',', 'no', ',', 'ai', \"n't\", 'no', 'point', 'in', 'fightin', \"'\", 'it', '(', 'uh', ')', 'I', \"'m\", 'the', 'cowgirl', 'how', 'I', \"'m\", 'ridin', \"'\", 'it', '(', 'how', 'I', \"'m\", 'ridin', \"'\", 'it', ')', \"'Cause\", 'me', 'and', 'this', '–', 'go', 'good', 'together', 'He', 'be', 'all', 'up', 'in', 'my', 'river', ',', 'boy', '(', 'ah', ',', 'oh', ')', 'We', \"'ve\", 'been', 'goin', \"'\", 'nonstop', 'Nobody', 'does', 'my', 'body', 'how', 'he', 'does', 'my', 'body', 'He', 'got', 'this', 'thing', 'on', 'lock', 'The', 'way', 'he', 'does', 'it', ',', 'I', 'ai', \"n't\", 'tryna', 'hear', 'nobody', ',', 'no', '(', 'no', ')', ',', 'no', '(', 'no', ')', 'The', 'way', 'that', 'he', 'squeezes', 'and', 'touches', 'it', ',', 'oh', '(', 'no', ')', ',', 'oh', '(', 'no', ')', 'If', 'he', 'keeps', 'this', 'up', 'I', 'might', 'need', 'crutches', ',', 'like', 'There', \"'s\", 'a', 'reason', 'I', 'walk', 'like', 'this', '(', 'I', 'walk', ')', 'My', 'baby', ',', 'he', 'be', 'lovin', \"'\", 'on', 'this', '(', 'oh', ',', 'yeah', ')', 'When', 'he', 'do', 'it', ',', 'he', 'be', 'workin', \"'\", 'that', 'shit', '(', 'oh', ',', 'yeah', ')', 'And', 'every', 'night', 'he', 'got', 'me', 'wantin', \"'\", 'more', 'of', 'it', 'There', \"'s\", 'a', 'reason', 'I', 'walk', 'like', 'this', '(', 'I', 'walk', ')', 'Side', 'to', 'side', 'with', 'a', 'sway', 'in', 'my', 'hip', '(', 'sway', ',', 'sway', ')', 'When', 'he', 'do', 'it', ',', 'he', 'be', 'workin', \"'\", 'that', 'shit', '(', 'yeah', ')', 'And', 'every', 'night', 'he', 'got', 'me', 'wantin', \"'\", 'more', 'of', 'it', '(', 'oh', ')', 'All', 'night', 'I', \"'ve\", 'been', 'in', 'this', 'bed', 'He', 'been', 'in', 'my', 'head', ',', 'I', \"'ve\", 'been', 'in', 'his', 'head', '(', 'his', 'head', ')', 'Move', 'my', 'body', 'right', 'and', 'left', 'Do', 'that', 'thing', 'again', ',', 'keep', 'me', 'comin', \"'\", 'back', '(', 'keep', 'me', 'comin', \"'\", 'back', ')', 'All', 'night', 'I', \"'ve\", 'been', 'in', 'this', 'bed', 'He', 'been', 'in', 'my', 'head', ',', 'I', \"'ve\", 'been', 'in', 'his', 'head', '(', 'I', \"'ve\", 'been', 'in', 'his', 'head', ')', 'Move', 'my', 'body', 'right', 'and', 'left', '(', 'move', 'my', 'body', 'right', 'and', 'left', ')', 'Do', 'that', 'thing', 'again', ',', 'keep', 'me', 'comin', \"'\", 'back', '(', 'keep', 'me', 'comin', \"'\", 'back', ')', 'There', \"'s\", 'a', 'reason', 'I', 'walk', 'like', 'this', '(', \"'ack\", ',', 'I', 'walk', ')', 'My', 'baby', ',', 'he', 'be', 'lovin', \"'\", 'on', 'this', '(', 'yeah', ',', 'yeah', ',', 'oh', ',', 'yeah', ')', 'When', 'he', 'do', 'it', ',', 'he', 'be', 'workin', \"'\", 'that', 'shit', '(', 'he', 'got', 'me', 'wantin', \"'\", 'more', ')', 'And', 'every', 'night', 'he', 'got', 'me', 'wantin', \"'\", 'more', 'of', 'it', '(', 'of', 'it', ',', 'oh', ')', 'There', \"'s\", 'a', 'reason', 'I', 'walk', 'like', 'this', '(', 'I', 'walk', ')', 'Side', 'to', 'side', 'with', 'a', 'sway', 'in', 'my', 'hip', '(', 'a', 'sway', 'in', 'my', 'hips', ',', 'sway', ',', 'sway', ')', 'When', 'he', 'do', 'it', ',', 'he', 'be', 'workin', \"'\", 'that', 'shit', '(', 'yeah', ')', 'And', 'every', 'night', 'he', 'got', 'me', 'wantin', \"'\", 'more', 'of', 'it', '(', 'he', 'got', 'me', 'wantin', \"'\", 'more', ')', 'All', 'night', 'I', \"'ve\", 'been', 'in', 'this', 'bed', 'He', 'been', 'in', 'my', 'head', ',', 'I', \"'ve\", 'been', 'in', 'his', 'head', '(', 'I', \"'ve\", 'been', 'in', 'his', 'head', ')', 'Move', 'my', 'body', 'right', 'and', 'left', 'Do', 'that', 'thing', 'again', ',', 'keep', 'me', 'comin', \"'\", 'back', '(', 'do', 'it', 'again', ')', 'There', \"'s\", 'a', 'reason', 'I', 'walk', 'like', 'this', '(', 'walk', 'like', 'this', ')', 'Side', 'to', 'side', 'with', 'a', 'sway', 'in', 'my', 'hip', '(', 'the', 'sway', ',', 'sway', ',', 'sway', ')', 'When', 'he', 'do', 'it', ',', 'he', 'be', 'workin', \"'\", 'that', 'shit', '(', 'when', 'he', 'do', 'it', ',', 'he', 'be', 'workin', \"'\", 'that', ')', 'And', 'every', 'night', 'he', 'got', 'me', 'wantin', \"'\", 'more', 'of', 'it']\n"
          ]
        }
      ]
    },
    {
      "cell_type": "code",
      "source": [
        "fdisk_walklikethis = FreqDist(word_musica)\n",
        "fdisk_walklikethis"
      ],
      "metadata": {
        "colab": {
          "base_uri": "https://localhost:8080/"
        },
        "id": "tJXwkOEbpSJN",
        "outputId": "9dc4a6e5-c885-4894-e118-5890a7544938"
      },
      "execution_count": null,
      "outputs": [
        {
          "output_type": "execute_result",
          "data": {
            "text/plain": [
              "FreqDist({',': 61, '(': 49, ')': 49, 'he': 44, 'I': 37, \"'\": 34, 'it': 32, 'this': 22, 'my': 20, 'in': 19, ...})"
            ]
          },
          "metadata": {},
          "execution_count": 32
        }
      ]
    },
    {
      "cell_type": "code",
      "source": [
        "fdisk_walklikethis.plot(10)"
      ],
      "metadata": {
        "id": "7RwYCPUMp_pg",
        "outputId": "00391b83-5195-42ae-b4ed-1d8764f0510a",
        "colab": {
          "base_uri": "https://localhost:8080/",
          "height": 478
        }
      },
      "execution_count": null,
      "outputs": [
        {
          "output_type": "display_data",
          "data": {
            "text/plain": [
              "<Figure size 640x480 with 1 Axes>"
            ],
            "image/png": "[encoded data removed]"
          },
          "metadata": {}
        },
        {
          "output_type": "execute_result",
          "data": {
            "text/plain": [
              "<Axes: xlabel='Samples', ylabel='Counts'>"
            ]
          },
          "metadata": {},
          "execution_count": 34
        }
      ]
    }
  ]
}