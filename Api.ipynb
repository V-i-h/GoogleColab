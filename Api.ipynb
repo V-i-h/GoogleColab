{
  "nbformat": 4,
  "nbformat_minor": 0,
  "metadata": {
    "colab": {
      "provenance": [],
      "authorship_tag": "ABX9TyMsL2GzHIFVkyzuj6kGWWvB",
      "include_colab_link": true
    },
    "kernelspec": {
      "name": "python3",
      "display_name": "Python 3"
    },
    "language_info": {
      "name": "python"
    }
  },
  "cells": [
    {
      "cell_type": "markdown",
      "metadata": {
        "id": "view-in-github",
        "colab_type": "text"
      },
      "source": [
        "<a href=\"https://colab.research.google.com/github/V-i-h/GoogleColab/blob/master/Api.ipynb\" target=\"_parent\"><img src=\"https://colab.research.google.com/assets/colab-badge.svg\" alt=\"Open In Colab\"/></a>"
      ]
    },
    {
      "cell_type": "markdown",
      "source": [
        "#Aula API\n"
      ],
      "metadata": {
        "id": "JrvVprjzLL5X"
      }
    },
    {
      "cell_type": "code",
      "execution_count": null,
      "metadata": {
        "colab": {
          "base_uri": "https://localhost:8080/"
        },
        "id": "Qr-ea4xqKLgk",
        "outputId": "baacc69f-2c88-49a3-8190-0f1529917828"
      },
      "outputs": [
        {
          "output_type": "stream",
          "name": "stdout",
          "text": [
            "Nome: aipom\n",
            "ID: 190\n",
            "Altura: 8\n",
            "Peso: 115\n",
            "Tipos\n",
            " - normal\n"
          ]
        }
      ],
      "source": [
        "import requests\n",
        "#Definir a variavel URL\n",
        "\n",
        "url = \"https://pokeapi.co/api/v2/pokemon/190\"\n",
        "\n",
        "response = requests.get(url)\n",
        "# Realizando a requisição e guardando a resposta\n",
        "\n",
        "if response.status_code == 200:\n",
        "  data = response.json()\n",
        "  print(f\"Nome: {data['name']}\")\n",
        "  print(f\"ID: {data['id']}\")\n",
        "  print(f\"Altura: {data['height']}\")\n",
        "  print(f\"Peso: {data['weight']}\")\n",
        "  print(\"Tipos\")\n",
        "\n",
        "  for tipo in data['types']:\n",
        "    print(f\" - {tipo['type']['name']}\")"
      ]
    },
    {
      "cell_type": "markdown",
      "source": [
        "# API the Dog"
      ],
      "metadata": {
        "id": "F1tGXooEQMfp"
      }
    },
    {
      "cell_type": "code",
      "source": [
        "import requests\n",
        "\n",
        "#Definir a chave da Api\n",
        "api_key = \"live_hLCEa4zITigYgj4bps2yHVuSziP48eCaSfb8r3nYKoOozEULGyWqOTJw4w1Uc5NW\"\n",
        "\n",
        "url = f\"https://api.thedogapi.com/v1/images/search?api_key={api_key}\"\n",
        "\n",
        "response= requests.get(url)\n",
        "\n",
        "if response.status_code == 200:\n",
        "   data = response.json()\n",
        "   print(data)"
      ],
      "metadata": {
        "colab": {
          "base_uri": "https://localhost:8080/"
        },
        "id": "m-i6osuqQCYR",
        "outputId": "70ddb2d2-e3bd-48a0-ca24-a19d3c20162e"
      },
      "execution_count": null,
      "outputs": [
        {
          "output_type": "stream",
          "name": "stdout",
          "text": [
            "[{'breeds': [], 'id': 'HkqBYu3SX', 'url': 'https://cdn2.thedogapi.com/images/HkqBYu3SX_1280.jpg', 'width': 1024, 'height': 683}]\n"
          ]
        }
      ]
    },
    {
      "cell_type": "markdown",
      "source": [
        "#API the Cat"
      ],
      "metadata": {
        "id": "2mA1bNDJTs2R"
      }
    },
    {
      "cell_type": "code",
      "source": [
        "import requests\n",
        "\n",
        "#Definir a chave da Api\n",
        "api_key = \"live_hLCEa4zITigYgj4bps2yHVuSziP48eCaSfb8r3nYKoOozEULGyWqOTJw4w1Uc5NW\"\n",
        "\n",
        "url = f\"https://api.thecatapi.com/v1/images/8n2?api_key={api_key}\"\n",
        "\n",
        "response= requests.get(url)\n",
        "\n",
        "if response.status_code == 200:\n",
        "   data = response.json()\n",
        "   print(data)"
      ],
      "metadata": {
        "colab": {
          "base_uri": "https://localhost:8080/"
        },
        "id": "IweCjnUtTwUR",
        "outputId": "efbc8e28-d08e-4eea-8174-9818d0cb95d2"
      },
      "execution_count": null,
      "outputs": [
        {
          "output_type": "stream",
          "name": "stdout",
          "text": [
            "{'id': '8n2', 'url': 'https://cdn2.thecatapi.com/images/8n2.jpg', 'width': 1195, 'height': 1600, 'categories': [{'id': 14, 'name': 'sinks'}]}\n"
          ]
        }
      ]
    },
    {
      "cell_type": "markdown",
      "source": [
        "# API NASA\n"
      ],
      "metadata": {
        "id": "9vWGP6DdV1M4"
      }
    },
    {
      "cell_type": "code",
      "source": [
        "import requests\n",
        "\n",
        "api_key =  \"93XcsvH8dQRboSblD1V7Qcs1uuyMciUcSTVhtcM5\"\n",
        "\n",
        "endpoint = \"/planetary/apod\"\n",
        "\n",
        "url = f\"https://api.nasa.gov{endpoint}?api_key={api_key}\"\n",
        "\n",
        "response = requests.get(url)\n",
        "\n",
        "if response.status_code == 200:\n",
        "  data = response.json()\n",
        "  print(data)\n"
      ],
      "metadata": {
        "colab": {
          "base_uri": "https://localhost:8080/"
        },
        "id": "eGu6GEs0V6Sp",
        "outputId": "2b4b4003-bd2c-421d-fac5-412405902666"
      },
      "execution_count": null,
      "outputs": [
        {
          "output_type": "stream",
          "name": "stdout",
          "text": [
            "{'date': '2024-09-13', 'explanation': \"This snapshot from the International Space Station was taken on August 11 while orbiting about 430 kilometers above the Indian Ocean, Southern Hemisphere, planet Earth. The spectacular view looks south and east, down toward the planet's horizon and through red and green curtains of aurora australis. The auroral glow is caused by emission from excited oxygen atoms in the extremely rarefied upper atmosphere still present at the level of the orbiting outpost. Green emission from atomic oxygen dominates this scene at altitudes of 100 to 250 kilometers, while red emission from atomic oxygen can extend as high as 500 kilometers altitude. Beyond the glow of these southern lights, this view from low Earth orbit reveals the starry sky from a southern hemisphere perspective. Stars in Orion's belt and the Orion Nebula are near the Earth's limb just left of center. Sirius, alpha star of Canis Major and brightest star in planet Earth's night is above center along the right edge of the southern orbital skyscape.  Looking Up: International Observe the Moon Night\", 'hdurl': 'https://apod.nasa.gov/apod/image/2409/iss071e564695_4096.jpg', 'media_type': 'image', 'service_version': 'v1', 'title': 'Aurora Australis and the International Space Station', 'url': 'https://apod.nasa.gov/apod/image/2409/iss071e564695_1024.jpg'}\n"
          ]
        }
      ]
    },
    {
      "cell_type": "markdown",
      "source": [
        "#API Star Wars"
      ],
      "metadata": {
        "id": "jLFiBZeAacMM"
      }
    },
    {
      "cell_type": "code",
      "source": [
        "import requests\n",
        "\n",
        "endpoint = \"/people\"\n",
        "\n",
        "url = f\"https://swapi.dev/api{endpoint}\"\n",
        "\n",
        "response = requests.get(url)\n",
        "\n",
        "data = response.json()\n",
        "\n",
        "for people in data['results']:\n",
        "  print(20*\"=\")\n",
        "  print(f\"Nome: {people['name']}\")\n",
        "  print(f\"Gênero: {people['gender']}\")\n",
        "  print(f\"Altura: {people['height']}\")\n",
        "  print(f\"Peso: {people['mass']}\")\n",
        "  print(\"Participação em: \")\n",
        "  for filme_url in people['films']:\n",
        "    response_filme = requests.get(filme_url)\n",
        "    filme = response_filme.json()\n",
        "    print(f\" - {filme['title']}\")\n",
        "  print(20*\"=\")\n",
        "  print(\"\\n\")\n",
        "\n",
        "\n",
        "  #atividade : fazer o mesmo resultado de \"films\" em \"vehicles\"\n",
        "  print(people['vehicles'])"
      ],
      "metadata": {
        "id": "bjcfaGXEafW0"
      },
      "execution_count": null,
      "outputs": []
    },
    {
      "cell_type": "markdown",
      "source": [
        "#API Trivia"
      ],
      "metadata": {
        "id": "ae8QMOqbr6sR"
      }
    },
    {
      "cell_type": "code",
      "source": [
        "import requests\n",
        "\n",
        "param = \"amount=10&category=9&difficulty=hard\"\n",
        "\n",
        "url = f\"https://opentdb.com/api.php?{param}\"\n",
        "\n",
        "response = requests.get(url).json()\n",
        "\n",
        "for pergunta in response['results']:\n",
        "  print(f\"Pergunta: {pergunta['question']}\")\n"
      ],
      "metadata": {
        "colab": {
          "base_uri": "https://localhost:8080/"
        },
        "id": "y2zfG6u8uozb",
        "outputId": "f11964d7-6b3b-415b-b3f8-191cc90ff845"
      },
      "execution_count": null,
      "outputs": [
        {
          "output_type": "stream",
          "name": "stdout",
          "text": [
            "Pergunta: Spoon theory is a theory, utilizing &quot;Spoons&quot; as a metaphor for energy they can use in a day.\n",
            "Pergunta: What is the romanized Korean word for &quot;heart&quot;?\n",
            "Pergunta: Electronic music producer Kygo&#039;s popularity skyrocketed after a certain remix. Which song did he remix?\n",
            "Pergunta: How many notes are there on a standard grand piano?\n",
            "Pergunta: In &quot;Battle Cats&quot;, what is Moneko / MISS Moneko&#039;s critical percentage rate?\n",
            "Pergunta: Which film star has his statue in Leicester Square?\n",
            "Pergunta: Which of the following  British Monarchs never appeared on a circulated pound sterling coin?\n",
            "Pergunta: Originally another word for poppy, coquelicot is a shade of what?\n",
            "Pergunta: Sciophobia is the fear of what?\n",
            "Pergunta: In the MMO RPG &quot;Realm of the Mad God&quot;, what dungeon is widely considered to be the most difficult?\n"
          ]
        }
      ]
    },
    {
      "cell_type": "markdown",
      "source": [
        "#API Clima"
      ],
      "metadata": {
        "id": "v3gaYhNCvyYB"
      }
    },
    {
      "cell_type": "code",
      "source": [
        "import requests\n",
        "\n",
        "api_key = \"da7d7856826a4e9daae192630241109\"\n",
        "city = \"Brasília\"\n",
        "\n",
        "url = f\"https://api.weatherapi.com/v1/current.json?key={api_key}&q={city}\"\n",
        "response = requests.get(url)\n",
        "\n",
        "data = response.json()\n",
        "\n",
        "print(f\"Data e Hora local: {data['location']['localtime']}\")\n",
        "print(f\"País: {data['location'] ['country']}\")\n",
        "print(f\"Temperatura em Celsius: {data['current']['temp_c']}°C\")\n",
        "print(f\"Velocidade do vento: {data['current']['wind_kph']}Km/h\")\n"
      ],
      "metadata": {
        "colab": {
          "base_uri": "https://localhost:8080/"
        },
        "id": "2wjQY1Q4v0eZ",
        "outputId": "6219be95-7574-4c06-fd95-54c0a386b5e6"
      },
      "execution_count": null,
      "outputs": [
        {
          "output_type": "stream",
          "name": "stdout",
          "text": [
            "Data e Hora local: 2024-09-13 11:27\n",
            "País: Brasil\n",
            "Temperatura em Celsius: 28.1°C\n",
            "Velocidade do vento: 14.0Km/h\n"
          ]
        }
      ]
    }
  ]
}